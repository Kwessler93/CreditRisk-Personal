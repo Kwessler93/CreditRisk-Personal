{
 "cells": [
  {
   "cell_type": "code",
   "execution_count": 1,
   "metadata": {},
   "outputs": [],
   "source": [
    "# Import libraries\n",
    "import pandas as pd\n",
    "from sklearn.model_selection import train_test_split\n",
    "from sklearn.preprocessing import StandardScaler\n",
    "import tensorflow as tf\n",
    "from tensorflow import keras\n",
    "from keras_tuner import RandomSearch\n",
    "from sklearn.metrics import classification_report"
   ]
  },
  {
   "cell_type": "code",
   "execution_count": 2,
   "metadata": {},
   "outputs": [
    {
     "data": {
      "text/html": [
       "<div>\n",
       "<style scoped>\n",
       "    .dataframe tbody tr th:only-of-type {\n",
       "        vertical-align: middle;\n",
       "    }\n",
       "\n",
       "    .dataframe tbody tr th {\n",
       "        vertical-align: top;\n",
       "    }\n",
       "\n",
       "    .dataframe thead th {\n",
       "        text-align: right;\n",
       "    }\n",
       "</style>\n",
       "<table border=\"1\" class=\"dataframe\">\n",
       "  <thead>\n",
       "    <tr style=\"text-align: right;\">\n",
       "      <th></th>\n",
       "      <th>person_age</th>\n",
       "      <th>person_income</th>\n",
       "      <th>person_emp_length</th>\n",
       "      <th>loan_amnt</th>\n",
       "      <th>loan_int_rate</th>\n",
       "      <th>loan_status</th>\n",
       "      <th>loan_percent_income</th>\n",
       "      <th>cb_person_cred_hist_length</th>\n",
       "      <th>person_home_ownership_OTHER</th>\n",
       "      <th>person_home_ownership_OWN</th>\n",
       "      <th>person_home_ownership_RENT</th>\n",
       "      <th>loan_grade_B</th>\n",
       "      <th>loan_grade_C</th>\n",
       "      <th>loan_grade_D</th>\n",
       "      <th>loan_grade_E</th>\n",
       "      <th>loan_grade_F</th>\n",
       "      <th>loan_grade_G</th>\n",
       "      <th>cb_person_default_on_file_Y</th>\n",
       "    </tr>\n",
       "  </thead>\n",
       "  <tbody>\n",
       "    <tr>\n",
       "      <th>0</th>\n",
       "      <td>22</td>\n",
       "      <td>59000</td>\n",
       "      <td>50.0</td>\n",
       "      <td>35000</td>\n",
       "      <td>16.02</td>\n",
       "      <td>1</td>\n",
       "      <td>0.59</td>\n",
       "      <td>3</td>\n",
       "      <td>False</td>\n",
       "      <td>False</td>\n",
       "      <td>True</td>\n",
       "      <td>False</td>\n",
       "      <td>False</td>\n",
       "      <td>True</td>\n",
       "      <td>False</td>\n",
       "      <td>False</td>\n",
       "      <td>False</td>\n",
       "      <td>True</td>\n",
       "    </tr>\n",
       "    <tr>\n",
       "      <th>1</th>\n",
       "      <td>24</td>\n",
       "      <td>83000</td>\n",
       "      <td>8.0</td>\n",
       "      <td>35000</td>\n",
       "      <td>8.90</td>\n",
       "      <td>1</td>\n",
       "      <td>0.42</td>\n",
       "      <td>2</td>\n",
       "      <td>False</td>\n",
       "      <td>False</td>\n",
       "      <td>True</td>\n",
       "      <td>False</td>\n",
       "      <td>False</td>\n",
       "      <td>False</td>\n",
       "      <td>False</td>\n",
       "      <td>False</td>\n",
       "      <td>False</td>\n",
       "      <td>False</td>\n",
       "    </tr>\n",
       "    <tr>\n",
       "      <th>2</th>\n",
       "      <td>25</td>\n",
       "      <td>137000</td>\n",
       "      <td>9.0</td>\n",
       "      <td>34800</td>\n",
       "      <td>16.77</td>\n",
       "      <td>0</td>\n",
       "      <td>0.25</td>\n",
       "      <td>2</td>\n",
       "      <td>False</td>\n",
       "      <td>False</td>\n",
       "      <td>True</td>\n",
       "      <td>False</td>\n",
       "      <td>False</td>\n",
       "      <td>False</td>\n",
       "      <td>True</td>\n",
       "      <td>False</td>\n",
       "      <td>False</td>\n",
       "      <td>True</td>\n",
       "    </tr>\n",
       "    <tr>\n",
       "      <th>3</th>\n",
       "      <td>24</td>\n",
       "      <td>10980</td>\n",
       "      <td>0.0</td>\n",
       "      <td>1500</td>\n",
       "      <td>7.29</td>\n",
       "      <td>0</td>\n",
       "      <td>0.14</td>\n",
       "      <td>3</td>\n",
       "      <td>False</td>\n",
       "      <td>True</td>\n",
       "      <td>False</td>\n",
       "      <td>False</td>\n",
       "      <td>False</td>\n",
       "      <td>False</td>\n",
       "      <td>False</td>\n",
       "      <td>False</td>\n",
       "      <td>False</td>\n",
       "      <td>False</td>\n",
       "    </tr>\n",
       "    <tr>\n",
       "      <th>4</th>\n",
       "      <td>22</td>\n",
       "      <td>80000</td>\n",
       "      <td>3.0</td>\n",
       "      <td>33950</td>\n",
       "      <td>14.54</td>\n",
       "      <td>1</td>\n",
       "      <td>0.42</td>\n",
       "      <td>4</td>\n",
       "      <td>False</td>\n",
       "      <td>False</td>\n",
       "      <td>True</td>\n",
       "      <td>False</td>\n",
       "      <td>False</td>\n",
       "      <td>True</td>\n",
       "      <td>False</td>\n",
       "      <td>False</td>\n",
       "      <td>False</td>\n",
       "      <td>True</td>\n",
       "    </tr>\n",
       "  </tbody>\n",
       "</table>\n",
       "</div>"
      ],
      "text/plain": [
       "   person_age  person_income  person_emp_length  loan_amnt  loan_int_rate  \\\n",
       "0          22          59000               50.0      35000          16.02   \n",
       "1          24          83000                8.0      35000           8.90   \n",
       "2          25         137000                9.0      34800          16.77   \n",
       "3          24          10980                0.0       1500           7.29   \n",
       "4          22          80000                3.0      33950          14.54   \n",
       "\n",
       "   loan_status  loan_percent_income  cb_person_cred_hist_length  \\\n",
       "0            1                 0.59                           3   \n",
       "1            1                 0.42                           2   \n",
       "2            0                 0.25                           2   \n",
       "3            0                 0.14                           3   \n",
       "4            1                 0.42                           4   \n",
       "\n",
       "   person_home_ownership_OTHER  person_home_ownership_OWN  \\\n",
       "0                        False                      False   \n",
       "1                        False                      False   \n",
       "2                        False                      False   \n",
       "3                        False                       True   \n",
       "4                        False                      False   \n",
       "\n",
       "   person_home_ownership_RENT  loan_grade_B  loan_grade_C  loan_grade_D  \\\n",
       "0                        True         False         False          True   \n",
       "1                        True         False         False         False   \n",
       "2                        True         False         False         False   \n",
       "3                       False         False         False         False   \n",
       "4                        True         False         False          True   \n",
       "\n",
       "   loan_grade_E  loan_grade_F  loan_grade_G  cb_person_default_on_file_Y  \n",
       "0         False         False         False                         True  \n",
       "1         False         False         False                        False  \n",
       "2          True         False         False                         True  \n",
       "3         False         False         False                        False  \n",
       "4         False         False         False                         True  "
      ]
     },
     "execution_count": 2,
     "metadata": {},
     "output_type": "execute_result"
    }
   ],
   "source": [
    "\n",
    "preprocessed_credit_risk_df = pd.read_csv('preprocessed_credit_risk.csv')\n",
    "\n",
    "preprocessed_credit_risk_df.head()"
   ]
  },
  {
   "cell_type": "code",
   "execution_count": 3,
   "metadata": {},
   "outputs": [],
   "source": [
    "# Split features and target\n",
    "X = preprocessed_credit_risk_df.drop(\"loan_status\", axis=1)\n",
    "y = preprocessed_credit_risk_df[\"loan_status\"]\n",
    "\n",
    "# Train-test split\n",
    "X_train, X_test, y_train, y_test = train_test_split(X, y, stratify=y, test_size=0.2, random_state=42)"
   ]
  },
  {
   "cell_type": "code",
   "execution_count": 4,
   "metadata": {},
   "outputs": [],
   "source": [
    "# Build model function for Keras Tuner\n",
    "def build_model(hp):\n",
    "    model = keras.Sequential()\n",
    "    model.add(keras.layers.Input(shape=(X_train.shape[1],)))\n",
    "\n",
    "    # Tune number of layers\n",
    "    for i in range(hp.Int(\"num_layers\", 1, 3)):\n",
    "        model.add(keras.layers.Dense(\n",
    "            units=hp.Int(f\"units_{i}\", min_value=16, max_value=128, step=16),\n",
    "            activation=hp.Choice(\"activation\", [\"relu\", \"tanh\"])\n",
    "        ))\n",
    "    model.add(keras.layers.Dense(1, activation=\"sigmoid\"))  # Binary output\n",
    "\n",
    "    model.compile(\n",
    "        optimizer=keras.optimizers.Adam(\n",
    "            hp.Float(\"learning_rate\", 1e-4, 1e-2, sampling=\"log\")),\n",
    "        loss=\"binary_crossentropy\",\n",
    "        metrics=[\"accuracy\"]\n",
    "    )\n",
    "    return model\n"
   ]
  },
  {
   "cell_type": "code",
   "execution_count": 5,
   "metadata": {},
   "outputs": [
    {
     "name": "stdout",
     "output_type": "stream",
     "text": [
      "Reloading Tuner from credit_risk_tuning/personal_loans/tuner0.json\n"
     ]
    }
   ],
   "source": [
    "# Set up tuner\n",
    "tuner = RandomSearch(\n",
    "    build_model,\n",
    "    objective=\"val_accuracy\",\n",
    "    max_trials=10,\n",
    "    executions_per_trial=1,\n",
    "    directory=\"credit_risk_tuning\",\n",
    "    project_name=\"personal_loans\"\n",
    ")"
   ]
  },
  {
   "cell_type": "code",
   "execution_count": 6,
   "metadata": {},
   "outputs": [],
   "source": [
    "# Run search\n",
    "tuner.search(X_train, y_train, epochs=20, validation_split=0.2, verbose=1)"
   ]
  },
  {
   "cell_type": "code",
   "execution_count": 7,
   "metadata": {},
   "outputs": [
    {
     "name": "stdout",
     "output_type": "stream",
     "text": [
      "Best Hyperparameters:\n",
      "num_layers: 3\n",
      "units_0: 64\n",
      "activation: tanh\n",
      "learning_rate: 0.0003244843025329892\n",
      "units_1: 48\n",
      "units_2: 112\n"
     ]
    }
   ],
   "source": [
    "# Retrieve best hyperparameters\n",
    "best_hps = tuner.get_best_hyperparameters(num_trials=1)[0]\n",
    "\n",
    "# Print best hyperparameter values\n",
    "print(\"Best Hyperparameters:\")\n",
    "for param, value in best_hps.values.items():\n",
    "    print(f\"{param}: {value}\")\n"
   ]
  },
  {
   "cell_type": "code",
   "execution_count": 8,
   "metadata": {},
   "outputs": [
    {
     "name": "stdout",
     "output_type": "stream",
     "text": [
      "\u001b[1m31/31\u001b[0m \u001b[32m━━━━━━━━━━━━━━━━━━━━\u001b[0m\u001b[37m\u001b[0m \u001b[1m0s\u001b[0m 1ms/step \n",
      "              precision    recall  f1-score   support\n",
      "\n",
      "           0       0.86      0.97      0.91       783\n",
      "           1       0.78      0.36      0.49       193\n",
      "\n",
      "    accuracy                           0.85       976\n",
      "   macro avg       0.82      0.67      0.70       976\n",
      "weighted avg       0.84      0.85      0.83       976\n",
      "\n"
     ]
    },
    {
     "name": "stderr",
     "output_type": "stream",
     "text": [
      "/opt/anaconda3/envs/dev/lib/python3.10/site-packages/keras/src/saving/saving_lib.py:757: UserWarning: Skipping variable loading for optimizer 'adam', because it has 2 variables whereas the saved optimizer has 18 variables. \n",
      "  saveable.load_own_variables(weights_store.get(inner_path))\n"
     ]
    }
   ],
   "source": [
    "# Get best model\n",
    "best_model = tuner.get_best_models(num_models=1)[0]\n",
    "\n",
    "# Evaluate\n",
    "y_pred = (best_model.predict(X_test) > 0.5).astype(\"int32\")\n",
    "print(classification_report(y_test, y_pred))"
   ]
  },
  {
   "cell_type": "code",
   "execution_count": 9,
   "metadata": {},
   "outputs": [],
   "source": [
    "\n",
    "\n",
    "def build_model_2(hp):\n",
    "    model = keras.Sequential()\n",
    "    model.add(keras.layers.Input(shape=(X_train.shape[1],)))\n",
    "\n",
    "    # Tune number of layers (2 to 5)\n",
    "    for i in range(hp.Int(\"num_layers\", 2, 5)):\n",
    "        model.add(keras.layers.Dense(\n",
    "            units=hp.Int(f\"units_{i}\", min_value=32, max_value=256, step=32),\n",
    "            activation=hp.Choice(\"activation\", [\"relu\", \"tanh\"])\n",
    "        ))\n",
    "        # Add dropout after each dense layer\n",
    "        model.add(keras.layers.Dropout(\n",
    "            hp.Float(f\"dropout_{i}\", min_value=0.1, max_value=0.5, step=0.1)\n",
    "        ))\n",
    "\n",
    "    # Output layer for binary classification\n",
    "    model.add(keras.layers.Dense(1, activation=\"sigmoid\"))\n",
    "\n",
    "    # Tune optimizer\n",
    "    optimizer = hp.Choice(\"optimizer\", [\"adam\", \"rmsprop\", \"nadam\"])\n",
    "\n",
    "    model.compile(\n",
    "        optimizer=optimizer,\n",
    "        loss=\"binary_crossentropy\",\n",
    "        metrics=[\"accuracy\", keras.metrics.AUC(name=\"auc\")]\n",
    "    )\n",
    "\n",
    "    return model\n"
   ]
  },
  {
   "cell_type": "code",
   "execution_count": 14,
   "metadata": {},
   "outputs": [],
   "source": [
    "from keras_tuner import RandomSearch\n",
    "\n",
    "tuner = RandomSearch(\n",
    "    build_model_2,\n",
    "    objective='val_accuracy',\n",
    "    max_trials=50,\n",
    "    executions_per_trial=1,\n",
    "    directory='new_credit_risk_tuning',\n",
    "    project_name='personal_loans_v2'\n",
    ")\n",
    "\n"
   ]
  },
  {
   "cell_type": "code",
   "execution_count": 15,
   "metadata": {},
   "outputs": [
    {
     "name": "stdout",
     "output_type": "stream",
     "text": [
      "Trial 50 Complete [00h 00m 03s]\n",
      "val_accuracy: 0.8361075520515442\n",
      "\n",
      "Best val_accuracy So Far: 0.8437899947166443\n",
      "Total elapsed time: 00h 02m 53s\n"
     ]
    }
   ],
   "source": [
    "\n",
    "from tensorflow.keras.callbacks import EarlyStopping\n",
    "\n",
    "early_stop = EarlyStopping(monitor='val_loss', patience=5)\n",
    "\n",
    "tuner.search(\n",
    "    X_train, y_train,\n",
    "    epochs=50,\n",
    "    validation_split=0.2,\n",
    "    callbacks=[early_stop],\n",
    "    verbose=1\n",
    ")\n"
   ]
  },
  {
   "cell_type": "code",
   "execution_count": 16,
   "metadata": {},
   "outputs": [
    {
     "name": "stdout",
     "output_type": "stream",
     "text": [
      "Best Hyperparameters:\n",
      "num_layers: 2\n",
      "units_0: 96\n",
      "activation: tanh\n",
      "dropout_0: 0.2\n",
      "units_1: 64\n",
      "dropout_1: 0.30000000000000004\n",
      "optimizer: nadam\n",
      "units_2: 128\n",
      "dropout_2: 0.4\n",
      "units_3: 192\n",
      "dropout_3: 0.4\n",
      "units_4: 32\n",
      "dropout_4: 0.1\n"
     ]
    }
   ],
   "source": [
    "# Retrieve best hyperparameters\n",
    "best_hps = tuner.get_best_hyperparameters(num_trials=1)[0]\n",
    "\n",
    "# Print best hyperparameter values\n",
    "print(\"Best Hyperparameters:\")\n",
    "for param, value in best_hps.values.items():\n",
    "    print(f\"{param}: {value}\")\n"
   ]
  },
  {
   "cell_type": "code",
   "execution_count": 17,
   "metadata": {},
   "outputs": [
    {
     "name": "stdout",
     "output_type": "stream",
     "text": [
      "\u001b[1m31/31\u001b[0m \u001b[32m━━━━━━━━━━━━━━━━━━━━\u001b[0m\u001b[37m\u001b[0m \u001b[1m0s\u001b[0m 2ms/step\n",
      "              precision    recall  f1-score   support\n",
      "\n",
      "           0       0.86      0.97      0.91       783\n",
      "           1       0.78      0.36      0.49       193\n",
      "\n",
      "    accuracy                           0.85       976\n",
      "   macro avg       0.82      0.67      0.70       976\n",
      "weighted avg       0.84      0.85      0.83       976\n",
      "\n"
     ]
    },
    {
     "name": "stderr",
     "output_type": "stream",
     "text": [
      "/opt/anaconda3/envs/dev/lib/python3.10/site-packages/keras/src/saving/saving_lib.py:757: UserWarning: Skipping variable loading for optimizer 'nadam', because it has 2 variables whereas the saved optimizer has 15 variables. \n",
      "  saveable.load_own_variables(weights_store.get(inner_path))\n"
     ]
    }
   ],
   "source": [
    "# Get best model\n",
    "best_model_2 = tuner.get_best_models(num_models=1)[0]\n",
    "\n",
    "# Evaluate\n",
    "y_pred = (best_model_2.predict(X_test) > 0.5).astype(\"int32\")\n",
    "print(classification_report(y_test, y_pred))"
   ]
  }
 ],
 "metadata": {
  "kernelspec": {
   "display_name": "dev",
   "language": "python",
   "name": "python3"
  },
  "language_info": {
   "codemirror_mode": {
    "name": "ipython",
    "version": 3
   },
   "file_extension": ".py",
   "mimetype": "text/x-python",
   "name": "python",
   "nbconvert_exporter": "python",
   "pygments_lexer": "ipython3",
   "version": "3.10.13"
  }
 },
 "nbformat": 4,
 "nbformat_minor": 2
}
