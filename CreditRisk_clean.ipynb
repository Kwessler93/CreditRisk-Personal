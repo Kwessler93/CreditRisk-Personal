{
 "cells": [
  {
   "cell_type": "code",
   "execution_count": 1,
   "id": "c0fd1793",
   "metadata": {},
   "outputs": [],
   "source": [
    "import pandas as pd\n",
    "import numpy as np"
   ]
  },
  {
   "cell_type": "code",
   "execution_count": 2,
   "id": "96b189a1",
   "metadata": {},
   "outputs": [
    {
     "data": {
      "text/html": [
       "<div>\n",
       "<style scoped>\n",
       "    .dataframe tbody tr th:only-of-type {\n",
       "        vertical-align: middle;\n",
       "    }\n",
       "\n",
       "    .dataframe tbody tr th {\n",
       "        vertical-align: top;\n",
       "    }\n",
       "\n",
       "    .dataframe thead th {\n",
       "        text-align: right;\n",
       "    }\n",
       "</style>\n",
       "<table border=\"1\" class=\"dataframe\">\n",
       "  <thead>\n",
       "    <tr style=\"text-align: right;\">\n",
       "      <th></th>\n",
       "      <th>person_age</th>\n",
       "      <th>person_income</th>\n",
       "      <th>person_home_ownership</th>\n",
       "      <th>person_emp_length</th>\n",
       "      <th>loan_intent</th>\n",
       "      <th>loan_grade</th>\n",
       "      <th>loan_amnt</th>\n",
       "      <th>loan_int_rate</th>\n",
       "      <th>loan_status</th>\n",
       "      <th>loan_percent_income</th>\n",
       "      <th>cb_person_default_on_file</th>\n",
       "      <th>cb_person_cred_hist_length</th>\n",
       "    </tr>\n",
       "  </thead>\n",
       "  <tbody>\n",
       "    <tr>\n",
       "      <th>0</th>\n",
       "      <td>22</td>\n",
       "      <td>59000</td>\n",
       "      <td>RENT</td>\n",
       "      <td>123.0</td>\n",
       "      <td>PERSONAL</td>\n",
       "      <td>D</td>\n",
       "      <td>35000</td>\n",
       "      <td>16.02</td>\n",
       "      <td>1</td>\n",
       "      <td>0.59</td>\n",
       "      <td>Y</td>\n",
       "      <td>3</td>\n",
       "    </tr>\n",
       "    <tr>\n",
       "      <th>1</th>\n",
       "      <td>21</td>\n",
       "      <td>9600</td>\n",
       "      <td>OWN</td>\n",
       "      <td>5.0</td>\n",
       "      <td>EDUCATION</td>\n",
       "      <td>B</td>\n",
       "      <td>1000</td>\n",
       "      <td>11.14</td>\n",
       "      <td>0</td>\n",
       "      <td>0.10</td>\n",
       "      <td>N</td>\n",
       "      <td>2</td>\n",
       "    </tr>\n",
       "    <tr>\n",
       "      <th>2</th>\n",
       "      <td>25</td>\n",
       "      <td>9600</td>\n",
       "      <td>MORTGAGE</td>\n",
       "      <td>1.0</td>\n",
       "      <td>MEDICAL</td>\n",
       "      <td>C</td>\n",
       "      <td>5500</td>\n",
       "      <td>12.87</td>\n",
       "      <td>1</td>\n",
       "      <td>0.57</td>\n",
       "      <td>N</td>\n",
       "      <td>3</td>\n",
       "    </tr>\n",
       "    <tr>\n",
       "      <th>3</th>\n",
       "      <td>23</td>\n",
       "      <td>65500</td>\n",
       "      <td>RENT</td>\n",
       "      <td>4.0</td>\n",
       "      <td>MEDICAL</td>\n",
       "      <td>C</td>\n",
       "      <td>35000</td>\n",
       "      <td>15.23</td>\n",
       "      <td>1</td>\n",
       "      <td>0.53</td>\n",
       "      <td>N</td>\n",
       "      <td>2</td>\n",
       "    </tr>\n",
       "    <tr>\n",
       "      <th>4</th>\n",
       "      <td>24</td>\n",
       "      <td>54400</td>\n",
       "      <td>RENT</td>\n",
       "      <td>8.0</td>\n",
       "      <td>MEDICAL</td>\n",
       "      <td>C</td>\n",
       "      <td>35000</td>\n",
       "      <td>14.27</td>\n",
       "      <td>1</td>\n",
       "      <td>0.55</td>\n",
       "      <td>Y</td>\n",
       "      <td>4</td>\n",
       "    </tr>\n",
       "  </tbody>\n",
       "</table>\n",
       "</div>"
      ],
      "text/plain": [
       "   person_age  person_income person_home_ownership  person_emp_length  \\\n",
       "0          22          59000                  RENT              123.0   \n",
       "1          21           9600                   OWN                5.0   \n",
       "2          25           9600              MORTGAGE                1.0   \n",
       "3          23          65500                  RENT                4.0   \n",
       "4          24          54400                  RENT                8.0   \n",
       "\n",
       "  loan_intent loan_grade  loan_amnt  loan_int_rate  loan_status  \\\n",
       "0    PERSONAL          D      35000          16.02            1   \n",
       "1   EDUCATION          B       1000          11.14            0   \n",
       "2     MEDICAL          C       5500          12.87            1   \n",
       "3     MEDICAL          C      35000          15.23            1   \n",
       "4     MEDICAL          C      35000          14.27            1   \n",
       "\n",
       "   loan_percent_income cb_person_default_on_file  cb_person_cred_hist_length  \n",
       "0                 0.59                         Y                           3  \n",
       "1                 0.10                         N                           2  \n",
       "2                 0.57                         N                           3  \n",
       "3                 0.53                         N                           2  \n",
       "4                 0.55                         Y                           4  "
      ]
     },
     "execution_count": 2,
     "metadata": {},
     "output_type": "execute_result"
    }
   ],
   "source": [
    "# Load the dataset \n",
    "data = pd.read_csv('credit_risk_dataset.csv')\n",
    "\n",
    "data.head()"
   ]
  },
  {
   "cell_type": "code",
   "execution_count": 3,
   "id": "1d13ef10",
   "metadata": {},
   "outputs": [],
   "source": [
    "# Filter dataset to only personal loans\n",
    "data = data[data['loan_intent'] == 'PERSONAL']"
   ]
  },
  {
   "cell_type": "code",
   "execution_count": 4,
   "id": "fd52866b",
   "metadata": {},
   "outputs": [
    {
     "name": "stdout",
     "output_type": "stream",
     "text": [
      "Number of Rows After Filtering to Personal Loans: 5521\n"
     ]
    }
   ],
   "source": [
    "# Display number of rows after filtering\n",
    "print(f\"Number of Rows After Filtering to Personal Loans: {len(data)}\")"
   ]
  },
  {
   "cell_type": "code",
   "execution_count": 5,
   "id": "69d395b3",
   "metadata": {},
   "outputs": [
    {
     "name": "stdout",
     "output_type": "stream",
     "text": [
      "Column Names:\n",
      "['person_age', 'person_income', 'person_home_ownership', 'person_emp_length', 'loan_intent', 'loan_grade', 'loan_amnt', 'loan_int_rate', 'loan_status', 'loan_percent_income', 'cb_person_default_on_file', 'cb_person_cred_hist_length']\n",
      "Number of Columns: 12\n"
     ]
    }
   ],
   "source": [
    "# Display column names and count\n",
    "print(\"Column Names:\")\n",
    "print(list(data.columns))\n",
    "print(f\"Number of Columns: {len(data.columns)}\")"
   ]
  },
  {
   "cell_type": "code",
   "execution_count": 6,
   "id": "b3725997",
   "metadata": {},
   "outputs": [
    {
     "name": "stdout",
     "output_type": "stream",
     "text": [
      "\n",
      "Dataset Info:\n",
      "<class 'pandas.core.frame.DataFrame'>\n",
      "Index: 5521 entries, 0 to 32579\n",
      "Data columns (total 12 columns):\n",
      " #   Column                      Non-Null Count  Dtype  \n",
      "---  ------                      --------------  -----  \n",
      " 0   person_age                  5521 non-null   int64  \n",
      " 1   person_income               5521 non-null   int64  \n",
      " 2   person_home_ownership       5521 non-null   object \n",
      " 3   person_emp_length           5369 non-null   float64\n",
      " 4   loan_intent                 5521 non-null   object \n",
      " 5   loan_grade                  5521 non-null   object \n",
      " 6   loan_amnt                   5521 non-null   int64  \n",
      " 7   loan_int_rate               5014 non-null   float64\n",
      " 8   loan_status                 5521 non-null   int64  \n",
      " 9   loan_percent_income         5521 non-null   float64\n",
      " 10  cb_person_default_on_file   5521 non-null   object \n",
      " 11  cb_person_cred_hist_length  5521 non-null   int64  \n",
      "dtypes: float64(3), int64(5), object(4)\n",
      "memory usage: 560.7+ KB\n",
      "None\n"
     ]
    }
   ],
   "source": [
    "# Display dataset information \n",
    "print(\"\\nDataset Info:\")\n",
    "print(data.info())\n"
   ]
  },
  {
   "cell_type": "code",
   "execution_count": 7,
   "id": "6fd406db",
   "metadata": {},
   "outputs": [
    {
     "name": "stdout",
     "output_type": "stream",
     "text": [
      "\n",
      "Summary Statistics for Numerical Columns:\n",
      "        person_age  person_income  person_emp_length     loan_amnt  \\\n",
      "count  5521.000000   5.521000e+03        5369.000000   5521.000000   \n",
      "mean     28.208477   6.786414e+04           4.888061   9573.772867   \n",
      "std       7.263431   9.809568e+04           4.375188   6298.425223   \n",
      "min      20.000000   4.200000e+03           0.000000    500.000000   \n",
      "25%      23.000000   3.900000e+04           2.000000   5000.000000   \n",
      "50%      26.000000   5.500000e+04           4.000000   8000.000000   \n",
      "75%      30.000000   8.000000e+04           7.000000  12000.000000   \n",
      "max     144.000000   6.000000e+06         123.000000  35000.000000   \n",
      "\n",
      "       loan_int_rate  loan_status  loan_percent_income  \\\n",
      "count    5014.000000  5521.000000           5521.00000   \n",
      "mean       10.998221     0.198877              0.16923   \n",
      "std         3.228400     0.399191              0.10540   \n",
      "min         5.420000     0.000000              0.00000   \n",
      "25%         7.900000     0.000000              0.09000   \n",
      "50%        10.990000     0.000000              0.15000   \n",
      "75%        13.430000     0.000000              0.23000   \n",
      "max        21.740000     1.000000              0.83000   \n",
      "\n",
      "       cb_person_cred_hist_length  \n",
      "count                 5521.000000  \n",
      "mean                     6.122804  \n",
      "std                      4.598415  \n",
      "min                      2.000000  \n",
      "25%                      3.000000  \n",
      "50%                      4.000000  \n",
      "75%                      8.000000  \n",
      "max                     30.000000  \n"
     ]
    }
   ],
   "source": [
    "# Summary statistics for numerical columns\n",
    "print(\"\\nSummary Statistics for Numerical Columns:\")\n",
    "print(data.describe())"
   ]
  },
  {
   "cell_type": "code",
   "execution_count": 8,
   "id": "b1e8d7ab",
   "metadata": {},
   "outputs": [
    {
     "name": "stdout",
     "output_type": "stream",
     "text": [
      "\n",
      "Summary Statistics for Numerical Columns (After Outlier Handling):\n",
      "        person_age  person_income  person_emp_length     loan_amnt  \\\n",
      "count  5521.000000   5.521000e+03        5369.000000   5521.000000   \n",
      "mean     28.198696   6.786414e+04           4.874465   9573.772867   \n",
      "std       7.142837   9.809568e+04           4.113683   6298.425223   \n",
      "min      20.000000   4.200000e+03           0.000000    500.000000   \n",
      "25%      23.000000   3.900000e+04           2.000000   5000.000000   \n",
      "50%      26.000000   5.500000e+04           4.000000   8000.000000   \n",
      "75%      30.000000   8.000000e+04           7.000000  12000.000000   \n",
      "max      90.000000   6.000000e+06          50.000000  35000.000000   \n",
      "\n",
      "       loan_int_rate  loan_status  loan_percent_income  \\\n",
      "count    5014.000000  5521.000000           5521.00000   \n",
      "mean       10.998221     0.198877              0.16923   \n",
      "std         3.228400     0.399191              0.10540   \n",
      "min         5.420000     0.000000              0.00000   \n",
      "25%         7.900000     0.000000              0.09000   \n",
      "50%        10.990000     0.000000              0.15000   \n",
      "75%        13.430000     0.000000              0.23000   \n",
      "max        21.740000     1.000000              0.83000   \n",
      "\n",
      "       cb_person_cred_hist_length  \n",
      "count                 5521.000000  \n",
      "mean                     6.122804  \n",
      "std                      4.598415  \n",
      "min                      2.000000  \n",
      "25%                      3.000000  \n",
      "50%                      4.000000  \n",
      "75%                      8.000000  \n",
      "max                     30.000000  \n"
     ]
    }
   ],
   "source": [
    "# Handle outliers\n",
    "# Cap person_emp_length at 50 years \n",
    "emp_length_cap = 50\n",
    "data['person_emp_length'] = data['person_emp_length'].clip(upper=emp_length_cap)\n",
    "\n",
    "# Cap person_age at 90 years\n",
    "age_cap = 90\n",
    "data['person_age'] = data['person_age'].clip(upper=age_cap)\n",
    "\n",
    "# Summary statistics after outlier handling\n",
    "print(\"\\nSummary Statistics for Numerical Columns (After Outlier Handling):\")\n",
    "print(data.describe())"
   ]
  },
  {
   "cell_type": "code",
   "execution_count": 9,
   "id": "bbb98840",
   "metadata": {},
   "outputs": [
    {
     "name": "stdout",
     "output_type": "stream",
     "text": [
      "\n",
      "Missing Values:\n",
      "person_age                      0\n",
      "person_income                   0\n",
      "person_home_ownership           0\n",
      "person_emp_length             152\n",
      "loan_intent                     0\n",
      "loan_grade                      0\n",
      "loan_amnt                       0\n",
      "loan_int_rate                 507\n",
      "loan_status                     0\n",
      "loan_percent_income             0\n",
      "cb_person_default_on_file       0\n",
      "cb_person_cred_hist_length      0\n",
      "dtype: int64\n"
     ]
    }
   ],
   "source": [
    "# Check for missing values\n",
    "print(\"\\nMissing Values:\")\n",
    "missing_values = data.isnull().sum()\n",
    "print(missing_values)"
   ]
  },
  {
   "cell_type": "code",
   "execution_count": 10,
   "id": "9bdeab07",
   "metadata": {},
   "outputs": [
    {
     "name": "stdout",
     "output_type": "stream",
     "text": [
      "\n",
      "Missing Values After Imput:\n",
      "person_age                    0\n",
      "person_income                 0\n",
      "person_home_ownership         0\n",
      "person_emp_length             0\n",
      "loan_intent                   0\n",
      "loan_grade                    0\n",
      "loan_amnt                     0\n",
      "loan_int_rate                 0\n",
      "loan_status                   0\n",
      "loan_percent_income           0\n",
      "cb_person_default_on_file     0\n",
      "cb_person_cred_hist_length    0\n",
      "dtype: int64\n"
     ]
    }
   ],
   "source": [
    "# Handle missing values\n",
    "# Drop rows with missing values in specified columns\n",
    "numerical_cols = ['person_emp_length', 'loan_int_rate']\n",
    "data = data.dropna(subset=numerical_cols)\n",
    "    \n",
    "# Verify no missing values remain\n",
    "print(\"\\nMissing Values After Imput:\")\n",
    "print(data.isnull().sum())"
   ]
  },
  {
   "cell_type": "code",
   "execution_count": null,
   "id": "454b9d89",
   "metadata": {},
   "outputs": [
    {
     "name": "stdout",
     "output_type": "stream",
     "text": [
      "\n",
      "Unique Values in Categorical Columns:\n",
      "person_home_ownership: 4 unique values - ['RENT' 'OWN' 'MORTGAGE' 'OTHER']\n",
      "loan_intent: 1 unique values - ['PERSONAL']\n",
      "loan_grade: 7 unique values - ['D' 'A' 'E' 'C' 'B' 'F' 'G']\n",
      "cb_person_default_on_file: 2 unique values - ['Y' 'N']\n"
     ]
    }
   ],
   "source": [
    "# Check unique values in categorical columns for get dummies\n",
    "categorical_cols = ['person_home_ownership', 'loan_intent', 'loan_grade', 'cb_person_default_on_file']\n",
    "print(\"\\nUnique Values in Categorical Columns:\")\n",
    "for col in categorical_cols:\n",
    "    print(f\"{col}: {data[col].nunique()} unique values - {data[col].unique()}\")"
   ]
  },
  {
   "cell_type": "code",
   "execution_count": null,
   "id": "eb3122c8",
   "metadata": {},
   "outputs": [],
   "source": [
    "# Separate columns with get dummies\n",
    "data = pd.get_dummies(data, columns=categorical_cols, drop_first=True)"
   ]
  },
  {
   "cell_type": "code",
   "execution_count": null,
   "id": "76bd6b72",
   "metadata": {},
   "outputs": [
    {
     "name": "stdout",
     "output_type": "stream",
     "text": [
      "\n",
      "Column Names After Get Dummies:\n",
      "['person_age', 'person_income', 'person_emp_length', 'loan_amnt', 'loan_int_rate', 'loan_status', 'loan_percent_income', 'cb_person_cred_hist_length', 'person_home_ownership_OTHER', 'person_home_ownership_OWN', 'person_home_ownership_RENT', 'loan_grade_B', 'loan_grade_C', 'loan_grade_D', 'loan_grade_E', 'loan_grade_F', 'loan_grade_G', 'cb_person_default_on_file_Y']\n",
      "Number of Columns After Get Dummies: 18\n"
     ]
    }
   ],
   "source": [
    "# Display new column names after get dummies\n",
    "print(\"\\nColumn Names After Get Dummies:\")\n",
    "print(list(data.columns))\n",
    "print(f\"Number of Columns After Get Dummies: {len(data.columns)}\")"
   ]
  },
  {
   "cell_type": "code",
   "execution_count": 14,
   "id": "75937a87",
   "metadata": {},
   "outputs": [
    {
     "name": "stdout",
     "output_type": "stream",
     "text": [
      "\n",
      "Correlation Matrix (Top Correlations with loan_status):\n",
      "loan_status                    1.000000\n",
      "loan_percent_income            0.392484\n",
      "person_home_ownership_RENT     0.282006\n",
      "loan_int_rate                  0.253041\n",
      "loan_grade_D                   0.227678\n",
      "cb_person_default_on_file_Y    0.133687\n",
      "loan_grade_E                   0.120384\n",
      "loan_grade_G                   0.091383\n",
      "loan_amnt                      0.082445\n",
      "loan_grade_F                   0.060177\n",
      "person_home_ownership_OTHER    0.043603\n",
      "loan_grade_C                  -0.018435\n",
      "loan_grade_B                  -0.033682\n",
      "cb_person_cred_hist_length    -0.039190\n",
      "person_age                    -0.056335\n",
      "person_income                 -0.100842\n",
      "person_home_ownership_OWN     -0.106008\n",
      "person_emp_length             -0.132836\n",
      "Name: loan_status, dtype: float64\n"
     ]
    }
   ],
   "source": [
    "# Explore correlations (for Visualization Lead)\n",
    "print(\"\\nCorrelation Matrix (Top Correlations with loan_status):\")\n",
    "correlation_matrix = data.corr()\n",
    "print(correlation_matrix['loan_status'].sort_values(ascending=False))"
   ]
  },
  {
   "cell_type": "code",
   "execution_count": null,
   "id": "87b6d8b4",
   "metadata": {},
   "outputs": [
    {
     "data": {
      "text/html": [
       "<div>\n",
       "<style scoped>\n",
       "    .dataframe tbody tr th:only-of-type {\n",
       "        vertical-align: middle;\n",
       "    }\n",
       "\n",
       "    .dataframe tbody tr th {\n",
       "        vertical-align: top;\n",
       "    }\n",
       "\n",
       "    .dataframe thead th {\n",
       "        text-align: right;\n",
       "    }\n",
       "</style>\n",
       "<table border=\"1\" class=\"dataframe\">\n",
       "  <thead>\n",
       "    <tr style=\"text-align: right;\">\n",
       "      <th></th>\n",
       "      <th>person_age</th>\n",
       "      <th>person_income</th>\n",
       "      <th>person_emp_length</th>\n",
       "      <th>loan_amnt</th>\n",
       "      <th>loan_int_rate</th>\n",
       "      <th>loan_status</th>\n",
       "      <th>loan_percent_income</th>\n",
       "      <th>cb_person_cred_hist_length</th>\n",
       "      <th>person_home_ownership_OTHER</th>\n",
       "      <th>person_home_ownership_OWN</th>\n",
       "      <th>person_home_ownership_RENT</th>\n",
       "      <th>loan_grade_B</th>\n",
       "      <th>loan_grade_C</th>\n",
       "      <th>loan_grade_D</th>\n",
       "      <th>loan_grade_E</th>\n",
       "      <th>loan_grade_F</th>\n",
       "      <th>loan_grade_G</th>\n",
       "      <th>cb_person_default_on_file_Y</th>\n",
       "    </tr>\n",
       "  </thead>\n",
       "  <tbody>\n",
       "    <tr>\n",
       "      <th>0</th>\n",
       "      <td>22</td>\n",
       "      <td>59000</td>\n",
       "      <td>50.0</td>\n",
       "      <td>35000</td>\n",
       "      <td>16.02</td>\n",
       "      <td>1</td>\n",
       "      <td>0.59</td>\n",
       "      <td>3</td>\n",
       "      <td>False</td>\n",
       "      <td>False</td>\n",
       "      <td>True</td>\n",
       "      <td>False</td>\n",
       "      <td>False</td>\n",
       "      <td>True</td>\n",
       "      <td>False</td>\n",
       "      <td>False</td>\n",
       "      <td>False</td>\n",
       "      <td>True</td>\n",
       "    </tr>\n",
       "    <tr>\n",
       "      <th>8</th>\n",
       "      <td>24</td>\n",
       "      <td>83000</td>\n",
       "      <td>8.0</td>\n",
       "      <td>35000</td>\n",
       "      <td>8.90</td>\n",
       "      <td>1</td>\n",
       "      <td>0.42</td>\n",
       "      <td>2</td>\n",
       "      <td>False</td>\n",
       "      <td>False</td>\n",
       "      <td>True</td>\n",
       "      <td>False</td>\n",
       "      <td>False</td>\n",
       "      <td>False</td>\n",
       "      <td>False</td>\n",
       "      <td>False</td>\n",
       "      <td>False</td>\n",
       "      <td>False</td>\n",
       "    </tr>\n",
       "    <tr>\n",
       "      <th>21</th>\n",
       "      <td>25</td>\n",
       "      <td>137000</td>\n",
       "      <td>9.0</td>\n",
       "      <td>34800</td>\n",
       "      <td>16.77</td>\n",
       "      <td>0</td>\n",
       "      <td>0.25</td>\n",
       "      <td>2</td>\n",
       "      <td>False</td>\n",
       "      <td>False</td>\n",
       "      <td>True</td>\n",
       "      <td>False</td>\n",
       "      <td>False</td>\n",
       "      <td>False</td>\n",
       "      <td>True</td>\n",
       "      <td>False</td>\n",
       "      <td>False</td>\n",
       "      <td>True</td>\n",
       "    </tr>\n",
       "    <tr>\n",
       "      <th>23</th>\n",
       "      <td>24</td>\n",
       "      <td>10980</td>\n",
       "      <td>0.0</td>\n",
       "      <td>1500</td>\n",
       "      <td>7.29</td>\n",
       "      <td>0</td>\n",
       "      <td>0.14</td>\n",
       "      <td>3</td>\n",
       "      <td>False</td>\n",
       "      <td>True</td>\n",
       "      <td>False</td>\n",
       "      <td>False</td>\n",
       "      <td>False</td>\n",
       "      <td>False</td>\n",
       "      <td>False</td>\n",
       "      <td>False</td>\n",
       "      <td>False</td>\n",
       "      <td>False</td>\n",
       "    </tr>\n",
       "    <tr>\n",
       "      <th>24</th>\n",
       "      <td>22</td>\n",
       "      <td>80000</td>\n",
       "      <td>3.0</td>\n",
       "      <td>33950</td>\n",
       "      <td>14.54</td>\n",
       "      <td>1</td>\n",
       "      <td>0.42</td>\n",
       "      <td>4</td>\n",
       "      <td>False</td>\n",
       "      <td>False</td>\n",
       "      <td>True</td>\n",
       "      <td>False</td>\n",
       "      <td>False</td>\n",
       "      <td>True</td>\n",
       "      <td>False</td>\n",
       "      <td>False</td>\n",
       "      <td>False</td>\n",
       "      <td>True</td>\n",
       "    </tr>\n",
       "  </tbody>\n",
       "</table>\n",
       "</div>"
      ],
      "text/plain": [
       "    person_age  person_income  person_emp_length  loan_amnt  loan_int_rate  \\\n",
       "0           22          59000               50.0      35000          16.02   \n",
       "8           24          83000                8.0      35000           8.90   \n",
       "21          25         137000                9.0      34800          16.77   \n",
       "23          24          10980                0.0       1500           7.29   \n",
       "24          22          80000                3.0      33950          14.54   \n",
       "\n",
       "    loan_status  loan_percent_income  cb_person_cred_hist_length  \\\n",
       "0             1                 0.59                           3   \n",
       "8             1                 0.42                           2   \n",
       "21            0                 0.25                           2   \n",
       "23            0                 0.14                           3   \n",
       "24            1                 0.42                           4   \n",
       "\n",
       "    person_home_ownership_OTHER  person_home_ownership_OWN  \\\n",
       "0                         False                      False   \n",
       "8                         False                      False   \n",
       "21                        False                      False   \n",
       "23                        False                       True   \n",
       "24                        False                      False   \n",
       "\n",
       "    person_home_ownership_RENT  loan_grade_B  loan_grade_C  loan_grade_D  \\\n",
       "0                         True         False         False          True   \n",
       "8                         True         False         False         False   \n",
       "21                        True         False         False         False   \n",
       "23                       False         False         False         False   \n",
       "24                        True         False         False          True   \n",
       "\n",
       "    loan_grade_E  loan_grade_F  loan_grade_G  cb_person_default_on_file_Y  \n",
       "0          False         False         False                         True  \n",
       "8          False         False         False                        False  \n",
       "21          True         False         False                         True  \n",
       "23         False         False         False                        False  \n",
       "24         False         False         False                         True  "
      ]
     },
     "execution_count": 15,
     "metadata": {},
     "output_type": "execute_result"
    }
   ],
   "source": [
    "#Display data for cleanliness\n",
    "data.head()"
   ]
  },
  {
   "cell_type": "code",
   "execution_count": null,
   "id": "04cdc155",
   "metadata": {},
   "outputs": [
    {
     "name": "stdout",
     "output_type": "stream",
     "text": [
      "\n",
      "Dataset Info:\n",
      "<class 'pandas.core.frame.DataFrame'>\n",
      "Index: 4877 entries, 0 to 32579\n",
      "Data columns (total 18 columns):\n",
      " #   Column                       Non-Null Count  Dtype  \n",
      "---  ------                       --------------  -----  \n",
      " 0   person_age                   4877 non-null   int64  \n",
      " 1   person_income                4877 non-null   int64  \n",
      " 2   person_emp_length            4877 non-null   float64\n",
      " 3   loan_amnt                    4877 non-null   int64  \n",
      " 4   loan_int_rate                4877 non-null   float64\n",
      " 5   loan_status                  4877 non-null   int64  \n",
      " 6   loan_percent_income          4877 non-null   float64\n",
      " 7   cb_person_cred_hist_length   4877 non-null   int64  \n",
      " 8   person_home_ownership_OTHER  4877 non-null   bool   \n",
      " 9   person_home_ownership_OWN    4877 non-null   bool   \n",
      " 10  person_home_ownership_RENT   4877 non-null   bool   \n",
      " 11  loan_grade_B                 4877 non-null   bool   \n",
      " 12  loan_grade_C                 4877 non-null   bool   \n",
      " 13  loan_grade_D                 4877 non-null   bool   \n",
      " 14  loan_grade_E                 4877 non-null   bool   \n",
      " 15  loan_grade_F                 4877 non-null   bool   \n",
      " 16  loan_grade_G                 4877 non-null   bool   \n",
      " 17  cb_person_default_on_file_Y  4877 non-null   bool   \n",
      "dtypes: bool(10), float64(3), int64(5)\n",
      "memory usage: 390.5 KB\n",
      "None\n"
     ]
    }
   ],
   "source": [
    "# Display dataset information \n",
    "print(\"\\nDataset Info:\")\n",
    "print(data.info())"
   ]
  },
  {
   "cell_type": "code",
   "execution_count": 18,
   "id": "685402fb",
   "metadata": {},
   "outputs": [],
   "source": [
    "# Save preprocessed data for further use \n",
    "data.to_csv('preprocessed_credit_risk.csv', index=False)"
   ]
  }
 ],
 "metadata": {
  "kernelspec": {
   "display_name": "dev",
   "language": "python",
   "name": "python3"
  },
  "language_info": {
   "codemirror_mode": {
    "name": "ipython",
    "version": 3
   },
   "file_extension": ".py",
   "mimetype": "text/x-python",
   "name": "python",
   "nbconvert_exporter": "python",
   "pygments_lexer": "ipython3",
   "version": "3.10.16"
  }
 },
 "nbformat": 4,
 "nbformat_minor": 5
}
